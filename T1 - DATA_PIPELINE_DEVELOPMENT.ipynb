{
 "cells": [
  {
   "cell_type": "markdown",
   "id": "a38c95bf-c79b-47d1-89be-f29876165156",
   "metadata": {},
   "source": [
    "### DATA PIPELINE DEVELOPMENT"
   ]
  },
  {
   "cell_type": "code",
   "execution_count": 2,
   "id": "9abc8099-d288-4625-819f-4a3b4590ba67",
   "metadata": {},
   "outputs": [
    {
     "name": "stdout",
     "output_type": "stream",
     "text": [
      "Data saved to transformed_data.csv\n"
     ]
    }
   ],
   "source": [
    "# etl_pipeline.py\n",
    "\n",
    "import pandas as pd\n",
    "from sklearn.preprocessing import StandardScaler, OneHotEncoder\n",
    "from sklearn.compose import ColumnTransformer\n",
    "from sklearn.pipeline import Pipeline\n",
    "from sklearn.impute import SimpleImputer\n",
    "\n",
    "\n",
    "# 1. Extract - Load the data\n",
    "def extract_data(file_path):\n",
    "    return pd.read_csv(file_path)\n",
    "\n",
    "\n",
    "# 2. Transform - Preprocess the data\n",
    "def transform_data(df):\n",
    "    # Drop non-informative columns if any (like PassengerId, Name, Ticket)\n",
    "    df = df.drop(columns=['PassengerId', 'Name', 'Ticket', 'Cabin'])  # adjust if not present\n",
    "\n",
    "    # Optional: Separate target\n",
    "    if 'Survived' in df.columns:\n",
    "        target = df['Survived']\n",
    "        df = df.drop(columns=['Survived'])\n",
    "    else:\n",
    "        target = None\n",
    "\n",
    "    # Define numeric and categorical features\n",
    "    numeric_features = df.select_dtypes(include=['int64', 'float64']).columns\n",
    "    categorical_features = df.select_dtypes(include=['object']).columns\n",
    "\n",
    "    # Pipelines for preprocessing\n",
    "    numeric_pipeline = Pipeline([\n",
    "        ('imputer', SimpleImputer(strategy='mean')),\n",
    "        ('scaler', StandardScaler())\n",
    "    ])\n",
    "\n",
    "    categorical_pipeline = Pipeline([\n",
    "        ('imputer', SimpleImputer(strategy='most_frequent')),\n",
    "        ('encoder', OneHotEncoder(handle_unknown='ignore', sparse_output=False))\n",
    "    ])\n",
    "\n",
    "    preprocessor = ColumnTransformer([\n",
    "        ('num', numeric_pipeline, numeric_features),\n",
    "        ('cat', categorical_pipeline, categorical_features)\n",
    "    ])\n",
    "\n",
    "    processed_data = preprocessor.fit_transform(df)\n",
    "    feature_names = preprocessor.get_feature_names_out()\n",
    "\n",
    "    # Rebuild dataframe with column names\n",
    "    processed_df = pd.DataFrame(processed_data, columns=feature_names)\n",
    "\n",
    "    # Add target back if available\n",
    "    if target is not None:\n",
    "        processed_df['Survived'] = target.reset_index(drop=True)\n",
    "\n",
    "    return processed_df\n",
    "\n",
    "\n",
    "# 3. Load - Save the transformed data\n",
    "def load_data(data, output_path):\n",
    "    data.to_csv(output_path, index=False)\n",
    "    print(f\"Data saved to {output_path}\")\n",
    "\n",
    "\n",
    "# Main Function\n",
    "def main():\n",
    "    input_path = 'Titanic-Dataset.csv'\n",
    "    output_path = 'transformed_data.csv'\n",
    "\n",
    "    df = extract_data(input_path)\n",
    "    transformed_df = transform_data(df)\n",
    "    load_data(transformed_df, output_path)\n",
    "\n",
    "\n",
    "if __name__ == '__main__':\n",
    "    main()\n"
   ]
  },
  {
   "cell_type": "code",
   "execution_count": null,
   "id": "dee6e379-0332-42b1-94b7-a5ad4de73e8e",
   "metadata": {},
   "outputs": [],
   "source": []
  }
 ],
 "metadata": {
  "kernelspec": {
   "display_name": "Python 3 (ipykernel)",
   "language": "python",
   "name": "python3"
  },
  "language_info": {
   "codemirror_mode": {
    "name": "ipython",
    "version": 3
   },
   "file_extension": ".py",
   "mimetype": "text/x-python",
   "name": "python",
   "nbconvert_exporter": "python",
   "pygments_lexer": "ipython3",
   "version": "3.11.7"
  }
 },
 "nbformat": 4,
 "nbformat_minor": 5
}
